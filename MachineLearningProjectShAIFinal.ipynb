{
  "cells": [
    {
      "cell_type": "markdown",
      "metadata": {
        "id": "I9prQVTP-62n"
      },
      "source": [
        "# Libraries"
      ]
    },
    {
      "cell_type": "code",
      "execution_count": null,
      "metadata": {
        "colab": {
          "background_save": true,
          "base_uri": "https://localhost:8080/"
        },
        "collapsed": true,
        "id": "IM7aX2nq_C6W",
        "outputId": "283ea011-3da6-4952-befd-088b2fc1043d"
      },
      "outputs": [
        {
          "name": "stdout",
          "output_type": "stream",
          "text": [
            "Requirement already satisfied: yfinance in /usr/local/lib/python3.10/dist-packages (0.2.38)\n",
            "Requirement already satisfied: pandas>=1.3.0 in /usr/local/lib/python3.10/dist-packages (from yfinance) (2.0.3)\n",
            "Requirement already satisfied: numpy>=1.16.5 in /usr/local/lib/python3.10/dist-packages (from yfinance) (1.25.2)\n",
            "Requirement already satisfied: requests>=2.31 in /usr/local/lib/python3.10/dist-packages (from yfinance) (2.31.0)\n",
            "Requirement already satisfied: multitasking>=0.0.7 in /usr/local/lib/python3.10/dist-packages (from yfinance) (0.0.11)\n",
            "Requirement already satisfied: lxml>=4.9.1 in /usr/local/lib/python3.10/dist-packages (from yfinance) (4.9.4)\n",
            "Requirement already satisfied: appdirs>=1.4.4 in /usr/local/lib/python3.10/dist-packages (from yfinance) (1.4.4)\n",
            "Requirement already satisfied: pytz>=2022.5 in /usr/local/lib/python3.10/dist-packages (from yfinance) (2023.4)\n",
            "Requirement already satisfied: frozendict>=2.3.4 in /usr/local/lib/python3.10/dist-packages (from yfinance) (2.4.4)\n",
            "Requirement already satisfied: peewee>=3.16.2 in /usr/local/lib/python3.10/dist-packages (from yfinance) (3.17.5)\n",
            "Requirement already satisfied: beautifulsoup4>=4.11.1 in /usr/local/lib/python3.10/dist-packages (from yfinance) (4.12.3)\n",
            "Requirement already satisfied: html5lib>=1.1 in /usr/local/lib/python3.10/dist-packages (from yfinance) (1.1)\n",
            "Requirement already satisfied: soupsieve>1.2 in /usr/local/lib/python3.10/dist-packages (from beautifulsoup4>=4.11.1->yfinance) (2.5)\n",
            "Requirement already satisfied: six>=1.9 in /usr/local/lib/python3.10/dist-packages (from html5lib>=1.1->yfinance) (1.16.0)\n",
            "Requirement already satisfied: webencodings in /usr/local/lib/python3.10/dist-packages (from html5lib>=1.1->yfinance) (0.5.1)\n",
            "Requirement already satisfied: python-dateutil>=2.8.2 in /usr/local/lib/python3.10/dist-packages (from pandas>=1.3.0->yfinance) (2.8.2)\n",
            "Requirement already satisfied: tzdata>=2022.1 in /usr/local/lib/python3.10/dist-packages (from pandas>=1.3.0->yfinance) (2024.1)\n",
            "Requirement already satisfied: charset-normalizer<4,>=2 in /usr/local/lib/python3.10/dist-packages (from requests>=2.31->yfinance) (3.3.2)\n",
            "Requirement already satisfied: idna<4,>=2.5 in /usr/local/lib/python3.10/dist-packages (from requests>=2.31->yfinance) (3.7)\n",
            "Requirement already satisfied: urllib3<3,>=1.21.1 in /usr/local/lib/python3.10/dist-packages (from requests>=2.31->yfinance) (2.0.7)\n",
            "Requirement already satisfied: certifi>=2017.4.17 in /usr/local/lib/python3.10/dist-packages (from requests>=2.31->yfinance) (2024.2.2)\n"
          ]
        }
      ],
      "source": [
        "!pip install yfinance"
      ]
    },
    {
      "cell_type": "code",
      "execution_count": null,
      "metadata": {
        "colab": {
          "background_save": true
        },
        "id": "kETZBNMaAbZh"
      },
      "outputs": [],
      "source": [
        "# to load the desired data\n",
        "import yfinance as yf\n",
        "\n",
        "# needed libraries in general\n",
        "import numpy as np\n",
        "import pandas as pd\n",
        "from sklearn.preprocessing import MinMaxScaler\n",
        "from sklearn.metrics import mean_squared_error, mean_absolute_error, r2_score\n",
        "from tensorflow.keras.models import Sequential\n",
        "from tensorflow.keras.layers import LSTM, Dense ,Bidirectional\n",
        "import matplotlib.pyplot as plt\n",
        "from sklearn.metrics import mean_squared_error"
      ]
    },
    {
      "cell_type": "markdown",
      "metadata": {
        "id": "80_EEUy9AlmH"
      },
      "source": [
        "# Loading the Dataset"
      ]
    },
    {
      "cell_type": "code",
      "execution_count": null,
      "metadata": {
        "colab": {
          "base_uri": "https://localhost:8080/"
        },
        "collapsed": true,
        "id": "uJCmwY0HAjrC",
        "outputId": "df291eaa-a4ab-49cf-d23a-38cd83db48e2"
      },
      "outputs": [
        {
          "name": "stderr",
          "output_type": "stream",
          "text": [
            "\r[*********************100%%**********************]  1 of 1 completed\n"
          ]
        }
      ],
      "source": [
        "data = yf.download('AMZN', start='2000-01-01', end='2022-12-31')"
      ]
    },
    {
      "cell_type": "markdown",
      "metadata": {
        "id": "Zpn65oQQA1B4"
      },
      "source": [
        "# Data analysis"
      ]
    },
    {
      "cell_type": "code",
      "execution_count": null,
      "metadata": {
        "colab": {
          "base_uri": "https://localhost:8080/"
        },
        "id": "BmBJKPnrAvzl",
        "outputId": "ad232098-614d-4368-c385-582ab5350347"
      },
      "outputs": [
        {
          "name": "stdout",
          "output_type": "stream",
          "text": [
            "<class 'pandas.core.frame.DataFrame'>\n",
            "DatetimeIndex: 5787 entries, 2000-01-03 to 2022-12-30\n",
            "Data columns (total 6 columns):\n",
            " #   Column     Non-Null Count  Dtype  \n",
            "---  ------     --------------  -----  \n",
            " 0   Open       5787 non-null   float64\n",
            " 1   High       5787 non-null   float64\n",
            " 2   Low        5787 non-null   float64\n",
            " 3   Close      5787 non-null   float64\n",
            " 4   Adj Close  5787 non-null   float64\n",
            " 5   Volume     5787 non-null   int64  \n",
            "dtypes: float64(5), int64(1)\n",
            "memory usage: 316.5 KB\n"
          ]
        }
      ],
      "source": [
        "data.info()"
      ]
    },
    {
      "cell_type": "code",
      "execution_count": null,
      "metadata": {
        "colab": {
          "base_uri": "https://localhost:8080/",
          "height": 206
        },
        "collapsed": true,
        "id": "7Me8FR6uBE4r",
        "outputId": "188896b5-d1dc-4d3e-f47a-c06d6d5a4b6f"
      },
      "outputs": [
        {
          "data": {
            "application/vnd.google.colaboratory.intrinsic+json": {
              "summary": "{\n  \"name\": \"data\",\n  \"rows\": 5787,\n  \"fields\": [\n    {\n      \"column\": \"Date\",\n      \"properties\": {\n        \"dtype\": \"date\",\n        \"min\": \"2000-01-03 00:00:00\",\n        \"max\": \"2022-12-30 00:00:00\",\n        \"num_unique_values\": 5787,\n        \"samples\": [\n          \"2019-09-18 00:00:00\",\n          \"2018-11-01 00:00:00\",\n          \"2004-03-09 00:00:00\"\n        ],\n        \"semantic_type\": \"\",\n        \"description\": \"\"\n      }\n    },\n    {\n      \"column\": \"Open\",\n      \"properties\": {\n        \"dtype\": \"number\",\n        \"std\": 49.46014662952769,\n        \"min\": 0.2955000102519989,\n        \"max\": 187.1999969482422,\n        \"num_unique_values\": 5218,\n        \"samples\": [\n          10.970499992370605,\n          1.2925000190734863,\n          3.3545000553131104\n        ],\n        \"semantic_type\": \"\",\n        \"description\": \"\"\n      }\n    },\n    {\n      \"column\": \"High\",\n      \"properties\": {\n        \"dtype\": \"number\",\n        \"std\": 50.03607505695179,\n        \"min\": 0.3050000071525574,\n        \"max\": 188.6540069580078,\n        \"num_unique_values\": 5213,\n        \"samples\": [\n          3.810499906539917,\n          2.118499994277954,\n          88.21050262451172\n        ],\n        \"semantic_type\": \"\",\n        \"description\": \"\"\n      }\n    },\n    {\n      \"column\": \"Low\",\n      \"properties\": {\n        \"dtype\": \"number\",\n        \"std\": 48.81060820302481,\n        \"min\": 0.27549999952316284,\n        \"max\": 184.83949279785156,\n        \"num_unique_values\": 5210,\n        \"samples\": [\n          12.2524995803833,\n          2.0985000133514404,\n          2.439500093460083\n        ],\n        \"semantic_type\": \"\",\n        \"description\": \"\"\n      }\n    },\n    {\n      \"column\": \"Close\",\n      \"properties\": {\n        \"dtype\": \"number\",\n        \"std\": 49.4173870949682,\n        \"min\": 0.2985000014305115,\n        \"max\": 186.57049560546875,\n        \"num_unique_values\": 5298,\n        \"samples\": [\n          39.44350051879883,\n          161.21400451660156,\n          13.8774995803833\n        ],\n        \"semantic_type\": \"\",\n        \"description\": \"\"\n      }\n    },\n    {\n      \"column\": \"Adj Close\",\n      \"properties\": {\n        \"dtype\": \"number\",\n        \"std\": 49.4173870949682,\n        \"min\": 0.2985000014305115,\n        \"max\": 186.57049560546875,\n        \"num_unique_values\": 5298,\n        \"samples\": [\n          39.44350051879883,\n          161.21400451660156,\n          13.8774995803833\n        ],\n        \"semantic_type\": \"\",\n        \"description\": \"\"\n      }\n    },\n    {\n      \"column\": \"Volume\",\n      \"properties\": {\n        \"dtype\": \"number\",\n        \"std\": 99400442,\n        \"min\": 17626000,\n        \"max\": 2086584000,\n        \"num_unique_values\": 5624,\n        \"samples\": [\n          68994000,\n          97382000,\n          144440000\n        ],\n        \"semantic_type\": \"\",\n        \"description\": \"\"\n      }\n    }\n  ]\n}",
              "type": "dataframe",
              "variable_name": "data"
            },
            "text/html": [
              "\n",
              "  <div id=\"df-afb7ca77-3ade-4c79-bf03-47eb061d9625\" class=\"colab-df-container\">\n",
              "    <div>\n",
              "<style scoped>\n",
              "    .dataframe tbody tr th:only-of-type {\n",
              "        vertical-align: middle;\n",
              "    }\n",
              "\n",
              "    .dataframe tbody tr th {\n",
              "        vertical-align: top;\n",
              "    }\n",
              "\n",
              "    .dataframe thead th {\n",
              "        text-align: right;\n",
              "    }\n",
              "</style>\n",
              "<table border=\"1\" class=\"dataframe\">\n",
              "  <thead>\n",
              "    <tr style=\"text-align: right;\">\n",
              "      <th></th>\n",
              "      <th>Date</th>\n",
              "      <th>Open</th>\n",
              "      <th>High</th>\n",
              "      <th>Low</th>\n",
              "      <th>Close</th>\n",
              "      <th>Adj Close</th>\n",
              "      <th>Volume</th>\n",
              "    </tr>\n",
              "  </thead>\n",
              "  <tbody>\n",
              "    <tr>\n",
              "      <th>0</th>\n",
              "      <td>2000-01-03</td>\n",
              "      <td>4.075000</td>\n",
              "      <td>4.478125</td>\n",
              "      <td>3.952344</td>\n",
              "      <td>4.468750</td>\n",
              "      <td>4.468750</td>\n",
              "      <td>322352000</td>\n",
              "    </tr>\n",
              "    <tr>\n",
              "      <th>1</th>\n",
              "      <td>2000-01-04</td>\n",
              "      <td>4.268750</td>\n",
              "      <td>4.575000</td>\n",
              "      <td>4.087500</td>\n",
              "      <td>4.096875</td>\n",
              "      <td>4.096875</td>\n",
              "      <td>349748000</td>\n",
              "    </tr>\n",
              "    <tr>\n",
              "      <th>2</th>\n",
              "      <td>2000-01-05</td>\n",
              "      <td>3.525000</td>\n",
              "      <td>3.756250</td>\n",
              "      <td>3.400000</td>\n",
              "      <td>3.487500</td>\n",
              "      <td>3.487500</td>\n",
              "      <td>769148000</td>\n",
              "    </tr>\n",
              "    <tr>\n",
              "      <th>3</th>\n",
              "      <td>2000-01-06</td>\n",
              "      <td>3.565625</td>\n",
              "      <td>3.634375</td>\n",
              "      <td>3.200000</td>\n",
              "      <td>3.278125</td>\n",
              "      <td>3.278125</td>\n",
              "      <td>375040000</td>\n",
              "    </tr>\n",
              "    <tr>\n",
              "      <th>4</th>\n",
              "      <td>2000-01-07</td>\n",
              "      <td>3.350000</td>\n",
              "      <td>3.525000</td>\n",
              "      <td>3.309375</td>\n",
              "      <td>3.478125</td>\n",
              "      <td>3.478125</td>\n",
              "      <td>210108000</td>\n",
              "    </tr>\n",
              "  </tbody>\n",
              "</table>\n",
              "</div>\n",
              "    <div class=\"colab-df-buttons\">\n",
              "\n",
              "  <div class=\"colab-df-container\">\n",
              "    <button class=\"colab-df-convert\" onclick=\"convertToInteractive('df-afb7ca77-3ade-4c79-bf03-47eb061d9625')\"\n",
              "            title=\"Convert this dataframe to an interactive table.\"\n",
              "            style=\"display:none;\">\n",
              "\n",
              "  <svg xmlns=\"http://www.w3.org/2000/svg\" height=\"24px\" viewBox=\"0 -960 960 960\">\n",
              "    <path d=\"M120-120v-720h720v720H120Zm60-500h600v-160H180v160Zm220 220h160v-160H400v160Zm0 220h160v-160H400v160ZM180-400h160v-160H180v160Zm440 0h160v-160H620v160ZM180-180h160v-160H180v160Zm440 0h160v-160H620v160Z\"/>\n",
              "  </svg>\n",
              "    </button>\n",
              "\n",
              "  <style>\n",
              "    .colab-df-container {\n",
              "      display:flex;\n",
              "      gap: 12px;\n",
              "    }\n",
              "\n",
              "    .colab-df-convert {\n",
              "      background-color: #E8F0FE;\n",
              "      border: none;\n",
              "      border-radius: 50%;\n",
              "      cursor: pointer;\n",
              "      display: none;\n",
              "      fill: #1967D2;\n",
              "      height: 32px;\n",
              "      padding: 0 0 0 0;\n",
              "      width: 32px;\n",
              "    }\n",
              "\n",
              "    .colab-df-convert:hover {\n",
              "      background-color: #E2EBFA;\n",
              "      box-shadow: 0px 1px 2px rgba(60, 64, 67, 0.3), 0px 1px 3px 1px rgba(60, 64, 67, 0.15);\n",
              "      fill: #174EA6;\n",
              "    }\n",
              "\n",
              "    .colab-df-buttons div {\n",
              "      margin-bottom: 4px;\n",
              "    }\n",
              "\n",
              "    [theme=dark] .colab-df-convert {\n",
              "      background-color: #3B4455;\n",
              "      fill: #D2E3FC;\n",
              "    }\n",
              "\n",
              "    [theme=dark] .colab-df-convert:hover {\n",
              "      background-color: #434B5C;\n",
              "      box-shadow: 0px 1px 3px 1px rgba(0, 0, 0, 0.15);\n",
              "      filter: drop-shadow(0px 1px 2px rgba(0, 0, 0, 0.3));\n",
              "      fill: #FFFFFF;\n",
              "    }\n",
              "  </style>\n",
              "\n",
              "    <script>\n",
              "      const buttonEl =\n",
              "        document.querySelector('#df-afb7ca77-3ade-4c79-bf03-47eb061d9625 button.colab-df-convert');\n",
              "      buttonEl.style.display =\n",
              "        google.colab.kernel.accessAllowed ? 'block' : 'none';\n",
              "\n",
              "      async function convertToInteractive(key) {\n",
              "        const element = document.querySelector('#df-afb7ca77-3ade-4c79-bf03-47eb061d9625');\n",
              "        const dataTable =\n",
              "          await google.colab.kernel.invokeFunction('convertToInteractive',\n",
              "                                                    [key], {});\n",
              "        if (!dataTable) return;\n",
              "\n",
              "        const docLinkHtml = 'Like what you see? Visit the ' +\n",
              "          '<a target=\"_blank\" href=https://colab.research.google.com/notebooks/data_table.ipynb>data table notebook</a>'\n",
              "          + ' to learn more about interactive tables.';\n",
              "        element.innerHTML = '';\n",
              "        dataTable['output_type'] = 'display_data';\n",
              "        await google.colab.output.renderOutput(dataTable, element);\n",
              "        const docLink = document.createElement('div');\n",
              "        docLink.innerHTML = docLinkHtml;\n",
              "        element.appendChild(docLink);\n",
              "      }\n",
              "    </script>\n",
              "  </div>\n",
              "\n",
              "\n",
              "<div id=\"df-815d3454-1a0b-4c9d-8f8f-d1419a0b64c0\">\n",
              "  <button class=\"colab-df-quickchart\" onclick=\"quickchart('df-815d3454-1a0b-4c9d-8f8f-d1419a0b64c0')\"\n",
              "            title=\"Suggest charts\"\n",
              "            style=\"display:none;\">\n",
              "\n",
              "<svg xmlns=\"http://www.w3.org/2000/svg\" height=\"24px\"viewBox=\"0 0 24 24\"\n",
              "     width=\"24px\">\n",
              "    <g>\n",
              "        <path d=\"M19 3H5c-1.1 0-2 .9-2 2v14c0 1.1.9 2 2 2h14c1.1 0 2-.9 2-2V5c0-1.1-.9-2-2-2zM9 17H7v-7h2v7zm4 0h-2V7h2v10zm4 0h-2v-4h2v4z\"/>\n",
              "    </g>\n",
              "</svg>\n",
              "  </button>\n",
              "\n",
              "<style>\n",
              "  .colab-df-quickchart {\n",
              "      --bg-color: #E8F0FE;\n",
              "      --fill-color: #1967D2;\n",
              "      --hover-bg-color: #E2EBFA;\n",
              "      --hover-fill-color: #174EA6;\n",
              "      --disabled-fill-color: #AAA;\n",
              "      --disabled-bg-color: #DDD;\n",
              "  }\n",
              "\n",
              "  [theme=dark] .colab-df-quickchart {\n",
              "      --bg-color: #3B4455;\n",
              "      --fill-color: #D2E3FC;\n",
              "      --hover-bg-color: #434B5C;\n",
              "      --hover-fill-color: #FFFFFF;\n",
              "      --disabled-bg-color: #3B4455;\n",
              "      --disabled-fill-color: #666;\n",
              "  }\n",
              "\n",
              "  .colab-df-quickchart {\n",
              "    background-color: var(--bg-color);\n",
              "    border: none;\n",
              "    border-radius: 50%;\n",
              "    cursor: pointer;\n",
              "    display: none;\n",
              "    fill: var(--fill-color);\n",
              "    height: 32px;\n",
              "    padding: 0;\n",
              "    width: 32px;\n",
              "  }\n",
              "\n",
              "  .colab-df-quickchart:hover {\n",
              "    background-color: var(--hover-bg-color);\n",
              "    box-shadow: 0 1px 2px rgba(60, 64, 67, 0.3), 0 1px 3px 1px rgba(60, 64, 67, 0.15);\n",
              "    fill: var(--button-hover-fill-color);\n",
              "  }\n",
              "\n",
              "  .colab-df-quickchart-complete:disabled,\n",
              "  .colab-df-quickchart-complete:disabled:hover {\n",
              "    background-color: var(--disabled-bg-color);\n",
              "    fill: var(--disabled-fill-color);\n",
              "    box-shadow: none;\n",
              "  }\n",
              "\n",
              "  .colab-df-spinner {\n",
              "    border: 2px solid var(--fill-color);\n",
              "    border-color: transparent;\n",
              "    border-bottom-color: var(--fill-color);\n",
              "    animation:\n",
              "      spin 1s steps(1) infinite;\n",
              "  }\n",
              "\n",
              "  @keyframes spin {\n",
              "    0% {\n",
              "      border-color: transparent;\n",
              "      border-bottom-color: var(--fill-color);\n",
              "      border-left-color: var(--fill-color);\n",
              "    }\n",
              "    20% {\n",
              "      border-color: transparent;\n",
              "      border-left-color: var(--fill-color);\n",
              "      border-top-color: var(--fill-color);\n",
              "    }\n",
              "    30% {\n",
              "      border-color: transparent;\n",
              "      border-left-color: var(--fill-color);\n",
              "      border-top-color: var(--fill-color);\n",
              "      border-right-color: var(--fill-color);\n",
              "    }\n",
              "    40% {\n",
              "      border-color: transparent;\n",
              "      border-right-color: var(--fill-color);\n",
              "      border-top-color: var(--fill-color);\n",
              "    }\n",
              "    60% {\n",
              "      border-color: transparent;\n",
              "      border-right-color: var(--fill-color);\n",
              "    }\n",
              "    80% {\n",
              "      border-color: transparent;\n",
              "      border-right-color: var(--fill-color);\n",
              "      border-bottom-color: var(--fill-color);\n",
              "    }\n",
              "    90% {\n",
              "      border-color: transparent;\n",
              "      border-bottom-color: var(--fill-color);\n",
              "    }\n",
              "  }\n",
              "</style>\n",
              "\n",
              "  <script>\n",
              "    async function quickchart(key) {\n",
              "      const quickchartButtonEl =\n",
              "        document.querySelector('#' + key + ' button');\n",
              "      quickchartButtonEl.disabled = true;  // To prevent multiple clicks.\n",
              "      quickchartButtonEl.classList.add('colab-df-spinner');\n",
              "      try {\n",
              "        const charts = await google.colab.kernel.invokeFunction(\n",
              "            'suggestCharts', [key], {});\n",
              "      } catch (error) {\n",
              "        console.error('Error during call to suggestCharts:', error);\n",
              "      }\n",
              "      quickchartButtonEl.classList.remove('colab-df-spinner');\n",
              "      quickchartButtonEl.classList.add('colab-df-quickchart-complete');\n",
              "    }\n",
              "    (() => {\n",
              "      let quickchartButtonEl =\n",
              "        document.querySelector('#df-815d3454-1a0b-4c9d-8f8f-d1419a0b64c0 button');\n",
              "      quickchartButtonEl.style.display =\n",
              "        google.colab.kernel.accessAllowed ? 'block' : 'none';\n",
              "    })();\n",
              "  </script>\n",
              "</div>\n",
              "\n",
              "    </div>\n",
              "  </div>\n"
            ],
            "text/plain": [
              "        Date      Open      High       Low     Close  Adj Close     Volume\n",
              "0 2000-01-03  4.075000  4.478125  3.952344  4.468750   4.468750  322352000\n",
              "1 2000-01-04  4.268750  4.575000  4.087500  4.096875   4.096875  349748000\n",
              "2 2000-01-05  3.525000  3.756250  3.400000  3.487500   3.487500  769148000\n",
              "3 2000-01-06  3.565625  3.634375  3.200000  3.278125   3.278125  375040000\n",
              "4 2000-01-07  3.350000  3.525000  3.309375  3.478125   3.478125  210108000"
            ]
          },
          "execution_count": 12,
          "metadata": {},
          "output_type": "execute_result"
        }
      ],
      "source": [
        "data.head()"
      ]
    },
    {
      "cell_type": "code",
      "execution_count": null,
      "metadata": {
        "colab": {
          "base_uri": "https://localhost:8080/"
        },
        "id": "TSJVH9KPBPHi",
        "outputId": "83aa56ac-5698-4a5c-a5a0-149ec7802a1a"
      },
      "outputs": [
        {
          "data": {
            "text/plain": [
              "Index(['Date', 'Open', 'High', 'Low', 'Close', 'Adj Close', 'Volume'], dtype='object')"
            ]
          },
          "execution_count": 11,
          "metadata": {},
          "output_type": "execute_result"
        }
      ],
      "source": [
        "# the date column is set as an index not a column\n",
        "data.reset_index(inplace=True)\n",
        "data.columns"
      ]
    },
    {
      "cell_type": "code",
      "execution_count": null,
      "metadata": {
        "colab": {
          "base_uri": "https://localhost:8080/"
        },
        "collapsed": true,
        "id": "n_fEK3blBZrP",
        "outputId": "c6bc4014-33c8-4872-f4d2-a0ede4acc7d3"
      },
      "outputs": [
        {
          "name": "stdout",
          "output_type": "stream",
          "text": [
            "Date         0\n",
            "Open         0\n",
            "High         0\n",
            "Low          0\n",
            "Close        0\n",
            "Adj Close    0\n",
            "Volume       0\n",
            "dtype: int64\n"
          ]
        }
      ],
      "source": [
        "# checking again for null values\n",
        "print(data.isnull().sum())"
      ]
    },
    {
      "cell_type": "code",
      "execution_count": null,
      "metadata": {
        "colab": {
          "base_uri": "https://localhost:8080/"
        },
        "collapsed": true,
        "id": "uerGz-JkBcG6",
        "outputId": "8153e81c-631f-4634-ba70-c421f5ae4122"
      },
      "outputs": [
        {
          "data": {
            "text/plain": [
              "count    5787.000000\n",
              "mean       34.303404\n",
              "std        49.417387\n",
              "min         0.298500\n",
              "25%         2.200250\n",
              "50%         9.294500\n",
              "75%        44.451250\n",
              "max       186.570496\n",
              "Name: Adj Close, dtype: float64"
            ]
          },
          "execution_count": 14,
          "metadata": {},
          "output_type": "execute_result"
        }
      ],
      "source": [
        "# target column distribution\n",
        "data['Adj Close'].describe()"
      ]
    },
    {
      "cell_type": "code",
      "execution_count": null,
      "metadata": {
        "colab": {
          "base_uri": "https://localhost:8080/",
          "height": 448
        },
        "collapsed": true,
        "id": "_eNVovN2BkAu",
        "outputId": "6ed0c802-075b-4451-cdde-b845c2f88450"
      },
      "outputs": [
        {
          "data": {
            "text/plain": [
              "<Axes: >"
            ]
          },
          "execution_count": 15,
          "metadata": {},
          "output_type": "execute_result"
        },
        {
          "data": {
            "image/png": "[encoded data removed]",
            "text/plain": [
              "<Figure size 640x480 with 1 Axes>"
            ]
          },
          "metadata": {},
          "output_type": "display_data"
        }
      ],
      "source": [
        "# skewed to the right\n",
        "data['Adj Close'].hist()"
      ]
    },
    {
      "cell_type": "code",
      "execution_count": null,
      "metadata": {
        "colab": {
          "base_uri": "https://localhost:8080/"
        },
        "collapsed": true,
        "id": "H_XHXUnQBrAF",
        "outputId": "4ecc9dc9-5f44-4e49-9ebd-48ab54c97109"
      },
      "outputs": [
        {
          "data": {
            "text/plain": [
              "False"
            ]
          },
          "execution_count": 16,
          "metadata": {},
          "output_type": "execute_result"
        }
      ],
      "source": [
        "# duplicates\n",
        "data.duplicated().any()"
      ]
    },
    {
      "cell_type": "markdown",
      "metadata": {
        "id": "pCF7ELn9ByR-"
      },
      "source": [
        "# Data Preprocessing"
      ]
    },
    {
      "cell_type": "code",
      "execution_count": null,
      "metadata": {
        "id": "fSxE5E7OBvVt"
      },
      "outputs": [],
      "source": [
        "# Extract the 'Date' and 'Adj price'\n",
        "dates = data['Date'].astype(object)\n",
        "prices = data['Adj Close']"
      ]
    },
    {
      "cell_type": "code",
      "execution_count": null,
      "metadata": {
        "id": "3Lgqks2tB55v"
      },
      "outputs": [],
      "source": [
        "# data to feed to our model\n",
        "data_array = np.column_stack((dates, prices))"
      ]
    },
    {
      "cell_type": "code",
      "execution_count": null,
      "metadata": {
        "colab": {
          "base_uri": "https://localhost:8080/"
        },
        "collapsed": true,
        "id": "jk5PYgPpCW3v",
        "outputId": "78d3579b-de30-41bd-ab74-39879d01b08b"
      },
      "outputs": [
        {
          "data": {
            "text/plain": [
              "array([[Timestamp('2000-01-03 00:00:00'), 4.46875],\n",
              "       [Timestamp('2000-01-04 00:00:00'), 4.096875190734863],\n",
              "       [Timestamp('2000-01-05 00:00:00'), 3.487499952316284],\n",
              "       ...,\n",
              "       [Timestamp('2022-12-28 00:00:00'), 81.81999969482422],\n",
              "       [Timestamp('2022-12-29 00:00:00'), 84.18000030517578],\n",
              "       [Timestamp('2022-12-30 00:00:00'), 84.0]], dtype=object)"
            ]
          },
          "execution_count": 19,
          "metadata": {},
          "output_type": "execute_result"
        }
      ],
      "source": [
        "# example\n",
        "data_array"
      ]
    },
    {
      "cell_type": "code",
      "execution_count": null,
      "metadata": {
        "id": "IN1ADfr8CbYI"
      },
      "outputs": [],
      "source": [
        "import datetime\n",
        "\n",
        "# Assuming 'dates' and 'prices' are NumPy arrays\n",
        "data_array = np.column_stack((dates, prices))\n",
        "\n",
        "# Convert the 'Date' column to datetime\n",
        "data_df = pd.DataFrame(data_array)\n",
        "data_df.iloc[:, 0] = pd.to_datetime(data_df.iloc[:, 0]).dt.date\n",
        "\n",
        "# Convert the dates to Unix timestamps\n",
        "data_df.iloc[:, 0] = [datetime.datetime.strptime(str(date), '%Y-%m-%d %H:%M:%S').timestamp() for date in data_df.iloc[:, 0]]\n",
        "\n",
        "# If you want to convert the timestamps back to numpy array\n",
        "data_array = data_df.values"
      ]
    },
    {
      "cell_type": "code",
      "execution_count": null,
      "metadata": {
        "colab": {
          "base_uri": "https://localhost:8080/"
        },
        "collapsed": true,
        "id": "qciuRygxCiS9",
        "outputId": "b557fd7e-cac4-4560-df32-e20d64a4069c"
      },
      "outputs": [
        {
          "data": {
            "text/plain": [
              "array([[946857600.0, 4.46875],\n",
              "       [946944000.0, 4.096875190734863],\n",
              "       [947030400.0, 3.487499952316284],\n",
              "       ...,\n",
              "       [1672185600.0, 81.81999969482422],\n",
              "       [1672272000.0, 84.18000030517578],\n",
              "       [1672358400.0, 84.0]], dtype=object)"
            ]
          },
          "execution_count": 21,
          "metadata": {},
          "output_type": "execute_result"
        }
      ],
      "source": [
        "# after converting the date to unix time stamp\n",
        "data_array"
      ]
    },
    {
      "cell_type": "code",
      "execution_count": null,
      "metadata": {
        "colab": {
          "base_uri": "https://localhost:8080/"
        },
        "collapsed": true,
        "id": "Y6wmb-vLCqd_",
        "outputId": "ccd64010-a76b-4836-fe3d-639f355e1e02"
      },
      "outputs": [
        {
          "data": {
            "text/plain": [
              "(5787, 2)"
            ]
          },
          "execution_count": 22,
          "metadata": {},
          "output_type": "execute_result"
        }
      ],
      "source": [
        "data_array.shape"
      ]
    },
    {
      "cell_type": "code",
      "execution_count": null,
      "metadata": {
        "id": "Lgr1duB3Cszq"
      },
      "outputs": [],
      "source": [
        "# spliting the dataset into training and testing sets\n",
        "train_size = int(len(data_array)*0.7)\n",
        "train, test = data_array[0:train_size], data_array[train_size:]"
      ]
    },
    {
      "cell_type": "code",
      "execution_count": null,
      "metadata": {
        "colab": {
          "base_uri": "https://localhost:8080/"
        },
        "collapsed": true,
        "id": "04XDhDxACv8G",
        "outputId": "d03002e1-590e-4c4b-866b-c5d1ce2e5839"
      },
      "outputs": [
        {
          "data": {
            "text/plain": [
              "array([[946857600.0, 4.46875],\n",
              "       [946944000.0, 4.096875190734863],\n",
              "       [947030400.0, 3.487499952316284],\n",
              "       ...,\n",
              "       [1454544000.0, 26.812999725341797],\n",
              "       [1454630400.0, 25.10650062561035],\n",
              "       [1454889600.0, 24.405000686645508]], dtype=object)"
            ]
          },
          "execution_count": 27,
          "metadata": {},
          "output_type": "execute_result"
        }
      ],
      "source": [
        "# example\n",
        "train"
      ]
    },
    {
      "cell_type": "code",
      "execution_count": null,
      "metadata": {
        "colab": {
          "base_uri": "https://localhost:8080/"
        },
        "collapsed": true,
        "id": "pY_ZoGdzCzQT",
        "outputId": "bf667dc5-782b-40ea-e277-453016adce3f"
      },
      "outputs": [
        {
          "data": {
            "text/plain": [
              "array([[1454976000.0, 24.103500366210938],\n",
              "       [1455062400.0, 24.52400016784668],\n",
              "       [1455148800.0, 25.19099998474121],\n",
              "       ...,\n",
              "       [1672185600.0, 81.81999969482422],\n",
              "       [1672272000.0, 84.18000030517578],\n",
              "       [1672358400.0, 84.0]], dtype=object)"
            ]
          },
          "execution_count": 26,
          "metadata": {},
          "output_type": "execute_result"
        }
      ],
      "source": [
        "# example\n",
        "test"
      ]
    },
    {
      "cell_type": "code",
      "execution_count": null,
      "metadata": {
        "colab": {
          "base_uri": "https://localhost:8080/"
        },
        "collapsed": true,
        "id": "EaYOwi9KC8Q3",
        "outputId": "6ef5fd5a-da10-4702-e91f-44996bffd38c"
      },
      "outputs": [
        {
          "name": "stdout",
          "output_type": "stream",
          "text": [
            "(4050, 2)\n",
            "(1737, 2)\n"
          ]
        }
      ],
      "source": [
        "print(train.shape)\n",
        "print(test.shape)"
      ]
    },
    {
      "cell_type": "code",
      "execution_count": null,
      "metadata": {
        "id": "WoHTeFvQDHDc"
      },
      "outputs": [],
      "source": [
        "# Separate the 'Date' and 'Price' columns for normalization\n",
        "train_dates, train_prices = train[:, 0], train[:, 1].astype(float)  # Convert 'Price' to float\n",
        "test_dates, test_prices = test[:, 0], test[:, 1].astype(float)  # Convert 'Price' to float\n"
      ]
    },
    {
      "cell_type": "code",
      "execution_count": null,
      "metadata": {
        "id": "9TY8yAc-DUBc"
      },
      "outputs": [],
      "source": [
        "# Normalize only the 'Price' data\n",
        "# The goal of normalization is to transform features to be on a similar scale. This improves the performance and training stability of the model.\n",
        "scaler_price = MinMaxScaler()\n",
        "train_prices_scaled = scaler_price.fit_transform(train_prices.reshape(-1, 1))\n",
        "test_prices_scaled = scaler_price.transform(test_prices.reshape(-1, 1))"
      ]
    },
    {
      "cell_type": "code",
      "execution_count": null,
      "metadata": {
        "id": "knm6y6PaDiKy"
      },
      "outputs": [],
      "source": [
        "# Combine the 'Date' and scaled 'Price' columns back into the dataset\n",
        "# why flatten --> to transform the input data into a format that can be easily understood and processed by the neural network.\n",
        "train_scaled = np.column_stack((train_dates, train_prices_scaled.flatten()))\n",
        "test_scaled = np.column_stack((test_dates, test_prices_scaled.flatten()))"
      ]
    },
    {
      "cell_type": "code",
      "execution_count": null,
      "metadata": {
        "id": "OFiHmICdDuw7"
      },
      "outputs": [],
      "source": [
        "# used to transform a time series dataset into a format suitable for supervised learning,\n",
        "# particularly for sequence prediction tasks\n",
        "def create_dataset(dataset, time_steps=1):\n",
        "    X, y = [], []\n",
        "    for i in range(len(dataset)-time_steps):\n",
        "        a = dataset[i:(i+time_steps), 1]  # Use index 1 for 'Price'\n",
        "        X.append(a)\n",
        "        y.append(dataset[i + time_steps, 1])\n",
        "    return np.array(X), np.array(y)\n"
      ]
    },
    {
      "cell_type": "code",
      "execution_count": null,
      "metadata": {
        "id": "xOweNukrFGOE"
      },
      "outputs": [],
      "source": [
        "# Set the time steps\n",
        "time_steps = 30\n",
        "\n",
        "# Create the time series dataset for training\n",
        "X_train, y_train = create_dataset(train_scaled, time_steps)\n",
        "X_train = X_train.reshape(X_train.shape[0], X_train.shape[1], 1).astype('float32')\n",
        "\n",
        "# Create the time series dataset for testing\n",
        "X_test, y_test = create_dataset(test_scaled, time_steps)\n",
        "X_test = X_test.reshape(X_test.shape[0], X_test.shape[1], 1).astype('float32')"
      ]
    },
    {
      "cell_type": "code",
      "execution_count": null,
      "metadata": {
        "id": "ffILL44MFPIM"
      },
      "outputs": [],
      "source": [
        "# Convert y_train and y_test to numpy arrays\n",
        "y_train = np.array(y_train).astype('float32')\n",
        "y_test = np.array(y_test).astype('float32')"
      ]
    },
    {
      "cell_type": "markdown",
      "metadata": {
        "id": "5VbW9RaVFRrl"
      },
      "source": [
        "# LSTM"
      ]
    },
    {
      "cell_type": "code",
      "execution_count": null,
      "metadata": {
        "id": "loA9f-GcFUYW"
      },
      "outputs": [],
      "source": [
        "# Buliding the LSTM model\n",
        "model_lstm = Sequential() # defining the model\n",
        "model_lstm.add(LSTM(units=50, return_sequences=True, input_shape=(X_train.shape[1], 1))) # adding the first LSTM layer\n",
        "model_lstm.add(LSTM(units=50, return_sequences=False)) # Second\n",
        "model_lstm.add(Dense(units=1, activation='relu')) # third\n",
        "model_lstm.compile(optimizer='adam', loss='mean_squared_error') # output layer"
      ]
    },
    {
      "cell_type": "code",
      "execution_count": null,
      "metadata": {
        "colab": {
          "base_uri": "https://localhost:8080/"
        },
        "id": "UNn65g4SF_Gx",
        "outputId": "50376103-e416-4a65-e1d7-9c9ec9a63220"
      },
      "outputs": [
        {
          "name": "stdout",
          "output_type": "stream",
          "text": [
            "Epoch 1/25\n",
            "126/126 [==============================] - 10s 39ms/step - loss: 0.0028\n",
            "Epoch 2/25\n",
            "126/126 [==============================] - 4s 29ms/step - loss: 2.1744e-04\n",
            "Epoch 3/25\n",
            "126/126 [==============================] - 4s 29ms/step - loss: 1.9719e-04\n",
            "Epoch 4/25\n",
            "126/126 [==============================] - 5s 42ms/step - loss: 2.0663e-04\n",
            "Epoch 5/25\n",
            "126/126 [==============================] - 4s 29ms/step - loss: 2.0668e-04\n",
            "Epoch 6/25\n",
            "126/126 [==============================] - 4s 29ms/step - loss: 1.6170e-04\n",
            "Epoch 7/25\n",
            "126/126 [==============================] - 4s 33ms/step - loss: 1.9126e-04\n",
            "Epoch 8/25\n",
            "126/126 [==============================] - 5s 37ms/step - loss: 1.6352e-04\n",
            "Epoch 9/25\n",
            "126/126 [==============================] - 4s 30ms/step - loss: 1.4364e-04\n",
            "Epoch 10/25\n",
            "126/126 [==============================] - 4s 30ms/step - loss: 1.4774e-04\n",
            "Epoch 11/25\n",
            "126/126 [==============================] - 5s 43ms/step - loss: 1.5013e-04\n",
            "Epoch 12/25\n",
            "126/126 [==============================] - 4s 29ms/step - loss: 1.1666e-04\n",
            "Epoch 13/25\n",
            "126/126 [==============================] - 5s 38ms/step - loss: 1.2387e-04\n",
            "Epoch 14/25\n",
            "126/126 [==============================] - 6s 44ms/step - loss: 1.4068e-04\n",
            "Epoch 15/25\n",
            "126/126 [==============================] - 4s 29ms/step - loss: 1.1450e-04\n",
            "Epoch 16/25\n",
            "126/126 [==============================] - 4s 29ms/step - loss: 1.0264e-04\n",
            "Epoch 17/25\n",
            "126/126 [==============================] - 4s 35ms/step - loss: 1.1499e-04\n",
            "Epoch 18/25\n",
            "126/126 [==============================] - 4s 36ms/step - loss: 1.0430e-04\n",
            "Epoch 19/25\n",
            "126/126 [==============================] - 4s 33ms/step - loss: 9.2755e-05\n",
            "Epoch 20/25\n",
            "126/126 [==============================] - 4s 31ms/step - loss: 1.0205e-04\n",
            "Epoch 21/25\n",
            "126/126 [==============================] - 5s 42ms/step - loss: 1.0206e-04\n",
            "Epoch 22/25\n",
            "126/126 [==============================] - 4s 29ms/step - loss: 8.6951e-05\n",
            "Epoch 23/25\n",
            "126/126 [==============================] - 4s 29ms/step - loss: 1.0057e-04\n",
            "Epoch 24/25\n",
            "126/126 [==============================] - 5s 40ms/step - loss: 8.4245e-05\n",
            "Epoch 25/25\n",
            "126/126 [==============================] - 4s 31ms/step - loss: 7.6608e-05\n"
          ]
        }
      ],
      "source": [
        "# Train the model\n",
        "# first time epoch = 25\n",
        "history_lstm=model_lstm.fit(X_train, y_train, epochs=25, batch_size=32)"
      ]
    },
    {
      "cell_type": "code",
      "execution_count": null,
      "metadata": {
        "colab": {
          "base_uri": "https://localhost:8080/"
        },
        "id": "g82Ya_k6G3pX",
        "outputId": "a3d77674-9062-4fa4-9f55-d90d34b14275"
      },
      "outputs": [
        {
          "name": "stdout",
          "output_type": "stream",
          "text": [
            "54/54 [==============================] - 1s 25ms/step\n"
          ]
        },
        {
          "data": {
            "text/plain": [
              "numpy.ndarray"
            ]
          },
          "execution_count": 50,
          "metadata": {},
          "output_type": "execute_result"
        }
      ],
      "source": [
        "# predicting on the test data\n",
        "predicted_prices_lstm = model_lstm.predict(X_test)\n",
        "type(predicted_prices_lstm)"
      ]
    },
    {
      "cell_type": "code",
      "execution_count": null,
      "metadata": {
        "colab": {
          "base_uri": "https://localhost:8080/"
        },
        "id": "zjkmJKbOHA0D",
        "outputId": "ce94d481-63ba-4ee5-db35-6218512d92cb"
      },
      "outputs": [
        {
          "name": "stdout",
          "output_type": "stream",
          "text": [
            "Mean Squared Error (MSE) on Testing Data: 0.3872571289539337\n"
          ]
        }
      ],
      "source": [
        "# Evaluate the model on the testing dataset\n",
        "loss_lstm = model_lstm.evaluate(X_test, y_test, verbose=0)\n",
        "\n",
        "print(f\"Mean Squared Error (MSE) on Testing Data: {loss_lstm}\")"
      ]
    },
    {
      "cell_type": "code",
      "execution_count": null,
      "metadata": {
        "colab": {
          "base_uri": "https://localhost:8080/",
          "height": 420
        },
        "id": "1-rB8SoIP0Er",
        "outputId": "73c5b8a0-4073-470f-e688-a3fcf4bba9ab"
      },
      "outputs": [
        {
          "data": {
            "image/png": "[encoded data removed]",
            "text/plain": [
              "<Figure size 1000x600 with 1 Axes>"
            ]
          },
          "metadata": {},
          "output_type": "display_data"
        }
      ],
      "source": [
        "# Plot training loss\n",
        "plt.figure(figsize=(10, 6))  # Set the figure size\n",
        "plt.plot(history_lstm.history['loss'], label='Training Loss', marker='o')\n",
        "plt.title('Training Loss Over Epochs')\n",
        "plt.xlabel('Epochs')\n",
        "plt.ylabel('Loss')\n",
        "plt.legend()\n",
        "plt.grid(True)  # Optionally add a grid for better readability\n",
        "plt.show()\n"
      ]
    },
    {
      "cell_type": "code",
      "execution_count": null,
      "metadata": {
        "colab": {
          "base_uri": "https://localhost:8080/"
        },
        "id": "4_HV_v2aQytG",
        "outputId": "813c7db4-7a59-407f-d361-bfb7506d6bde"
      },
      "outputs": [
        {
          "data": {
            "text/plain": [
              "dict_keys(['loss'])"
            ]
          },
          "execution_count": 60,
          "metadata": {},
          "output_type": "execute_result"
        }
      ],
      "source": [
        "history_lstm.history.keys()"
      ]
    },
    {
      "cell_type": "code",
      "execution_count": null,
      "metadata": {
        "id": "YbyJFJ6jROv5"
      },
      "outputs": [],
      "source": [
        "# Inverse transform the testing dataset for plotting\n",
        "y_test_inverse = scaler_price.inverse_transform(y_test.reshape(-1, 1))\n",
        "predicted_prices_inv_lstm = scaler_price.inverse_transform(predicted_prices_lstm)"
      ]
    },
    {
      "cell_type": "code",
      "execution_count": null,
      "metadata": {
        "colab": {
          "base_uri": "https://localhost:8080/",
          "height": 272
        },
        "id": "rx-nbnvkRW55",
        "outputId": "24be8858-ba70-4832-f011-9933ac19b556"
      },
      "outputs": [
        {
          "data": {
            "image/png": "[encoded data removed]",
            "text/plain": [
              "<Figure size 1500x600 with 1 Axes>"
            ]
          },
          "metadata": {},
          "output_type": "display_data"
        }
      ],
      "source": [
        "# Plotting the real and predicted patterns for the testing data\n",
        "num_predictions = predicted_prices_inv_lstm.shape[1]\n",
        "\n",
        "plt.figure(figsize=(15, 6 * num_predictions))\n",
        "\n",
        "for i in range(num_predictions):\n",
        "    plt.subplot(num_predictions, 1, i + 1)\n",
        "\n",
        "    # Plotting the real prices\n",
        "    plt.plot(test_scaled[:, 0][time_steps:], y_test_inverse, label='Real Prices', marker='o')\n",
        "\n",
        "    # Plotting the predicted prices for the current prediction\n",
        "    plt.plot(test_scaled[:, 0][time_steps:], predicted_prices_inv_lstm[:, i], label=f'Predicted Prices {i + 1}', linestyle='dashed', marker='o')\n",
        "\n",
        "    plt.title(f'Real vs Predicted Prices (Testing Data) - Prediction {i + 1}')\n",
        "    plt.xlabel('Date')\n",
        "    plt.ylabel('Prices')\n",
        "    plt.legend()\n",
        "\n",
        "plt.tight_layout()\n",
        "plt.show()"
      ]
    },
    {
      "cell_type": "code",
      "execution_count": null,
      "metadata": {
        "colab": {
          "base_uri": "https://localhost:8080/"
        },
        "id": "Pi2C-FEYSxRE",
        "outputId": "9dd923fc-94ff-491b-a091-205a2ec59337"
      },
      "outputs": [
        {
          "name": "stdout",
          "output_type": "stream",
          "text": [
            "54/54 [==============================] - 1s 19ms/step\n",
            "Mean Squared Error (MSE): 0.39441368\n",
            "Mean Absolute Error (MAE): 0.45831162\n",
            "R-squared (R2) Score: 0.775612874509606\n"
          ]
        }
      ],
      "source": [
        "# Evaluation metrics\n",
        "# Make predictions on the test set\n",
        "y_pred = model_lstm.predict(X_test)\n",
        "\n",
        "# Calculate Mean Squared Error (MSE)\n",
        "mse = mean_squared_error(y_test, y_pred)\n",
        "\n",
        "# Calculate Mean Absolute Error (MAE)\n",
        "mae = mean_absolute_error(y_test, y_pred)\n",
        "\n",
        "# Calculate R-squared (R2) score\n",
        "r2 = r2_score(y_test, y_pred)\n",
        "\n",
        "print(\"Mean Squared Error (MSE):\", mse)\n",
        "print(\"Mean Absolute Error (MAE):\", mae)\n",
        "print(\"R-squared (R2) Score:\", r2)"
      ]
    },
    {
      "cell_type": "markdown",
      "metadata": {
        "id": "AiN9opi0UJ2S"
      },
      "source": [
        "# Bi-directional lstm"
      ]
    },
    {
      "cell_type": "code",
      "execution_count": null,
      "metadata": {
        "id": "RRTpsxIpUOg-"
      },
      "outputs": [],
      "source": [
        "#build the model\n",
        "bi_lstm = Sequential()\n",
        "bi_lstm.add(Bidirectional(LSTM(units=50, activation='relu'), input_shape=(X_train.shape[1], 1)))\n",
        "bi_lstm.add(Dense(units=1, activation='relu'))\n",
        "bi_lstm.compile(optimizer='adam', loss='mse')"
      ]
    },
    {
      "cell_type": "code",
      "execution_count": null,
      "metadata": {
        "colab": {
          "base_uri": "https://localhost:8080/"
        },
        "id": "p_Gpmq8gUSVK",
        "outputId": "ea9cd871-f824-4eaf-b8ab-1500b3d7f565"
      },
      "outputs": [
        {
          "name": "stdout",
          "output_type": "stream",
          "text": [
            "Epoch 1/25\n",
            "126/126 [==============================] - 4s 28ms/step - loss: 8.7874e-05\n",
            "Epoch 2/25\n",
            "126/126 [==============================] - 3s 23ms/step - loss: 9.8729e-05\n",
            "Epoch 3/25\n",
            "126/126 [==============================] - 4s 33ms/step - loss: 7.9827e-05\n",
            "Epoch 4/25\n",
            "126/126 [==============================] - 4s 28ms/step - loss: 7.8061e-05\n",
            "Epoch 5/25\n",
            "126/126 [==============================] - 3s 24ms/step - loss: 7.7633e-05\n",
            "Epoch 6/25\n",
            "126/126 [==============================] - 3s 23ms/step - loss: 7.4968e-05\n",
            "Epoch 7/25\n",
            "126/126 [==============================] - 6s 52ms/step - loss: 8.1928e-05\n",
            "Epoch 8/25\n",
            "126/126 [==============================] - 3s 23ms/step - loss: 7.5970e-05\n",
            "Epoch 9/25\n",
            "126/126 [==============================] - 3s 24ms/step - loss: 7.6051e-05\n",
            "Epoch 10/25\n",
            "126/126 [==============================] - 3s 23ms/step - loss: 7.9522e-05\n",
            "Epoch 11/25\n",
            "126/126 [==============================] - 4s 33ms/step - loss: 7.1484e-05\n",
            "Epoch 12/25\n",
            "126/126 [==============================] - 3s 26ms/step - loss: 6.6137e-05\n",
            "Epoch 13/25\n",
            "126/126 [==============================] - 3s 22ms/step - loss: 6.6874e-05\n",
            "Epoch 14/25\n",
            "126/126 [==============================] - 3s 23ms/step - loss: 6.8442e-05\n",
            "Epoch 15/25\n",
            "126/126 [==============================] - 4s 28ms/step - loss: 6.7296e-05\n",
            "Epoch 16/25\n",
            "126/126 [==============================] - 4s 33ms/step - loss: 6.7853e-05\n",
            "Epoch 17/25\n",
            "126/126 [==============================] - 3s 23ms/step - loss: 6.5092e-05\n",
            "Epoch 18/25\n",
            "126/126 [==============================] - 3s 23ms/step - loss: 5.9114e-05\n",
            "Epoch 19/25\n",
            "126/126 [==============================] - 3s 23ms/step - loss: 6.4284e-05\n",
            "Epoch 20/25\n",
            "126/126 [==============================] - 5s 38ms/step - loss: 5.9515e-05\n",
            "Epoch 21/25\n",
            "126/126 [==============================] - 3s 22ms/step - loss: 5.7927e-05\n",
            "Epoch 22/25\n",
            "126/126 [==============================] - 3s 22ms/step - loss: 6.2416e-05\n",
            "Epoch 23/25\n",
            "126/126 [==============================] - 3s 23ms/step - loss: 5.3922e-05\n",
            "Epoch 24/25\n",
            "126/126 [==============================] - 4s 31ms/step - loss: 5.9321e-05\n",
            "Epoch 25/25\n",
            "126/126 [==============================] - 3s 27ms/step - loss: 6.4610e-05\n"
          ]
        }
      ],
      "source": [
        "# Train the model\n",
        "history_bi_lstm = bi_lstm.fit(X_train, y_train, epochs=25, batch_size=32)"
      ]
    },
    {
      "cell_type": "code",
      "execution_count": null,
      "metadata": {
        "colab": {
          "base_uri": "https://localhost:8080/"
        },
        "id": "ErfzL7P1V4-z",
        "outputId": "92666392-eeac-431a-b0d4-1fc0ba41299a"
      },
      "outputs": [
        {
          "name": "stdout",
          "output_type": "stream",
          "text": [
            "54/54 [==============================] - 1s 9ms/step\n"
          ]
        }
      ],
      "source": [
        "test_predictions_scaled_bi = bi_lstm.predict(X_test)\n",
        "test_predictions_bi = scaler_price.inverse_transform(test_predictions_scaled_bi)\n",
        "y_test_inverse = scaler_price.inverse_transform(y_test.reshape(-1, 1))"
      ]
    },
    {
      "cell_type": "code",
      "execution_count": null,
      "metadata": {
        "colab": {
          "base_uri": "https://localhost:8080/"
        },
        "id": "Ggc25m0bWbpP",
        "outputId": "008a4ce5-d89b-4afc-ca74-55abbec90702"
      },
      "outputs": [
        {
          "name": "stdout",
          "output_type": "stream",
          "text": [
            "54/54 [==============================] - 0s 8ms/step\n",
            "Mean Squared Error (MSE): 0.57541794\n",
            "Mean Absolute Error (MAE): 0.54308444\n",
            "R-squared (R2) Score: 0.6726371608886528\n"
          ]
        }
      ],
      "source": [
        "# Evaluation metrics\n",
        "# Make predictions on the test set\n",
        "y_pred = bi_lstm.predict(X_test)\n",
        "\n",
        "# Calculate Mean Squared Error (MSE)\n",
        "mse = mean_squared_error(y_test, y_pred)\n",
        "\n",
        "# Calculate Mean Absolute Error (MAE)\n",
        "mae = mean_absolute_error(y_test, y_pred)\n",
        "\n",
        "# Calculate R-squared (R2) score\n",
        "r2 = r2_score(y_test, y_pred)\n",
        "\n",
        "print(\"Mean Squared Error (MSE):\", mse)\n",
        "print(\"Mean Absolute Error (MAE):\", mae)\n",
        "print(\"R-squared (R2) Score:\", r2)"
      ]
    },
    {
      "cell_type": "code",
      "execution_count": null,
      "metadata": {
        "colab": {
          "base_uri": "https://localhost:8080/",
          "height": 564
        },
        "id": "K2dSGhj0WAyT",
        "outputId": "3496fd24-b75c-4db2-f08e-73c9bf85526b"
      },
      "outputs": [
        {
          "data": {
            "image/png": "[encoded data removed]",
            "text/plain": [
              "<Figure size 1000x600 with 1 Axes>"
            ]
          },
          "metadata": {},
          "output_type": "display_data"
        }
      ],
      "source": [
        "# Plotting the real and predicted patterns for the testing data\n",
        "plt.figure(figsize=(10, 6))\n",
        "plt.plot(y_test_inverse, label='Real Prices', linestyle='-', marker='o')\n",
        "plt.plot(test_predictions_bi, label='Predicted Prices', linestyle='dashed', marker='o')\n",
        "plt.title('Real vs Predicted Prices (Testing Data)')\n",
        "plt.xlabel('Data Point')\n",
        "plt.ylabel('Prices')\n",
        "plt.legend()\n",
        "plt.show()"
      ]
    },
    {
      "cell_type": "markdown",
      "metadata": {
        "id": "uN7dMXIddZ0z"
      },
      "source": []
    },
    {
      "cell_type": "markdown",
      "metadata": {
        "id": "QI8eqWBcddWk"
      },
      "source": [
        "# ESN"
      ]
    },
    {
      "cell_type": "code",
      "execution_count": null,
      "metadata": {
        "colab": {
          "base_uri": "https://localhost:8080/"
        },
        "id": "Q1vEoBVidwz2",
        "outputId": "63034ec0-50ab-4c26-d77b-31e9ac1f0704"
      },
      "outputs": [
        {
          "name": "stdout",
          "output_type": "stream",
          "text": [
            "Collecting ESN\n",
            "  Downloading ESN-0.0.1-py3-none-any.whl (2.3 kB)\n",
            "Installing collected packages: ESN\n",
            "Successfully installed ESN-0.0.1\n"
          ]
        }
      ],
      "source": [
        "!pip install ESN"
      ]
    },
    {
      "cell_type": "code",
      "execution_count": null,
      "metadata": {
        "id": "DHvnLLY-eFso"
      },
      "outputs": [],
      "source": [
        "import ESN"
      ]
    },
    {
      "cell_type": "code",
      "execution_count": null,
      "metadata": {
        "id": "39Daan-TdhIR"
      },
      "outputs": [],
      "source": [
        "train_input, train_output = train_prices_scaled[:-1], train_prices_scaled[1:]"
      ]
    },
    {
      "cell_type": "code",
      "execution_count": null,
      "metadata": {
        "colab": {
          "base_uri": "https://localhost:8080/"
        },
        "id": "xysjLFPydq22",
        "outputId": "8580fcba-d3e3-40ed-f5a0-3ee637e62287"
      },
      "outputs": [
        {
          "data": {
            "text/plain": [
              "((4049, 1), (4049, 1))"
            ]
          },
          "execution_count": 78,
          "metadata": {},
          "output_type": "execute_result"
        }
      ],
      "source": [
        "train_input.shape , train_output.shape"
      ]
    },
    {
      "cell_type": "code",
      "execution_count": null,
      "metadata": {
        "id": "dvs72mKGgrgt"
      },
      "outputs": [],
      "source": [
        "esn = ESN(n_inputs=train_input.shape[1], n_outputs=train_output.shape[1], n_reservoir=1000,spectral_radius=0.9)"
      ]
    },
    {
      "cell_type": "code",
      "execution_count": null,
      "metadata": {
        "id": "Syb96ndVgu-2"
      },
      "outputs": [],
      "source": [
        "# Train the ESN\n",
        "esn.fit(train_input, train_output)"
      ]
    },
    {
      "cell_type": "code",
      "execution_count": null,
      "metadata": {
        "id": "kmnpUX00hc4j"
      },
      "outputs": [],
      "source": [
        "#predict using ESN\n",
        "test_predictions_scaled_esn = esn.predict(y_test)\n",
        "\n",
        "\n",
        "# Inverse transform the predicted prices\n",
        "test_predictions_esn = scaler_price.inverse_transform(test_predictions_scaled_esn.reshape(-1, 1))\n"
      ]
    },
    {
      "cell_type": "code",
      "execution_count": null,
      "metadata": {
        "id": "-Aa6v8qsheol"
      },
      "outputs": [],
      "source": [
        "test_prices = scaler_price.inverse_transform(test_prices_scaled[1:].reshape(-1, 1))\n",
        "\n",
        "# Compute Mean Squared Error for testing\n",
        "test_mse = mean_squared_error(y_test, test_predictions_esn)\n",
        "print(f'Mean Squared Error on Testing Data: {test_mse}')"
      ]
    },
    {
      "cell_type": "code",
      "execution_count": null,
      "metadata": {
        "id": "V1VggaQthhVr"
      },
      "outputs": [],
      "source": [
        "plt.figure(figsize=(10, 6))\n",
        "plt.plot(y_test, label='Real Prices', marker='o', linestyle='-')\n",
        "plt.plot(test_predictions_esn, label='Predicted Prices', linestyle='dashed', marker='o')\n",
        "plt.title('Real vs Predicted Prices (Testing Data)')\n",
        "plt.xlabel('Data Point')\n",
        "plt.ylabel('Prices')\n",
        "plt.legend()\n",
        "plt.show()"
      ]
    }
  ],
  "metadata": {
    "colab": {
      "collapsed_sections": [
        "I9prQVTP-62n",
        "80_EEUy9AlmH",
        "Zpn65oQQA1B4",
        "pCF7ELn9ByR-",
        "5VbW9RaVFRrl",
        "AiN9opi0UJ2S",
        "QI8eqWBcddWk"
      ],
      "provenance": []
    },
    "kernelspec": {
      "display_name": "Python 3",
      "name": "python3"
    },
    "language_info": {
      "name": "python"
    }
  },
  "nbformat": 4,
  "nbformat_minor": 0
}